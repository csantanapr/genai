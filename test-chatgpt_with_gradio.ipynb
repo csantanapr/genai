{
 "cells": [
  {
   "cell_type": "markdown",
   "metadata": {},
   "source": [
    "This notebook demonstrates calling ChatGPT model via OpenAI APIs. In addition we'll also create a frontend for the input/output using Gradio"
   ]
  },
  {
   "cell_type": "code",
   "execution_count": null,
   "metadata": {},
   "outputs": [],
   "source": [
    "!python3 -m pip install openai\n",
    "!python3 -m pip install python-dotenv\n",
    "!python3 -m pip install gradio"
   ]
  },
  {
   "cell_type": "markdown",
   "metadata": {},
   "source": [
    "Create a .env file in the same folder as this notebook (or your regular code!) and have one line like below:\n",
    "APIKEY=<Give your openai API key without quotes>"
   ]
  },
  {
   "cell_type": "code",
   "execution_count": 10,
   "metadata": {},
   "outputs": [],
   "source": [
    "import openai\n",
    "import os\n",
    "\n",
    "from dotenv import load_dotenv\n",
    "load_dotenv()\n",
    "\n",
    "openai.api_key = os.environ.get(\"APIKEY\")\n"
   ]
  },
  {
   "cell_type": "code",
   "execution_count": 11,
   "metadata": {},
   "outputs": [],
   "source": [
    "def get_completion(prompt, model=\"gpt-3.5-turbo\"): \n",
    "    messages = [{\"role\": \"user\", \"content\": prompt}]\n",
    "    response = openai.ChatCompletion.create(\n",
    "        model=model,\n",
    "        messages=messages\n",
    "    )\n",
    "    return response.choices[0].message[\"content\"]"
   ]
  },
  {
   "cell_type": "code",
   "execution_count": null,
   "metadata": {},
   "outputs": [],
   "source": [
    "input='''Streak is Zimbabwe's all-time leading wicket-taker and once took 6-87 in a Test against England to earn a place on the Lord's honours board.\n",
    "\n",
    "He was serving an eight-year ban from cricket, issued in 2021, for corruption offences.\n",
    "\n",
    "\"He was carried to be with the angels,\" his wife Nadine wrote on social media.\n",
    "\n",
    "Heath Streak obituary: Zimbabwe's best bowler in politically charged era\n",
    "\"In the early hours of this morning, Sunday 3 September, the greatest love of my life and the father of my beautiful children, was carried to be with the angels from his home where he wished to spend his last days surrounded by his family and closest loved ones.\n",
    "\n",
    "\"He was covered in love and peace and did not walk off the park alone.\"\n",
    "\n",
    "Streak, born in Bulawayo, had three children.\n",
    "\n",
    "He played in 65 Tests for Zimbabwe, taking 216 wickets, and 189 one-day internationals, in which he took 239 wickets.\n",
    "\n",
    "As a county cricketer, he had spells with Warwickshire and Hampshire.\n",
    "'''\n",
    "\n",
    "prompt = f\"\"\"\n",
    "Summarize the text below, delimited by triple \n",
    "backticks, in at most 30 words. \n",
    "\n",
    "Review: ```{input}```\n",
    "\"\"\"\n",
    "\n",
    "output = get_completion(prompt)\n",
    "print(output)"
   ]
  },
  {
   "cell_type": "code",
   "execution_count": null,
   "metadata": {},
   "outputs": [],
   "source": [
    "import gradio as gr\n",
    "\n",
    "def summarize(input):\n",
    "    prompt = f\"\"\"\n",
    "    Summarize the text below, delimited by triple \n",
    "    backticks, in at most 30 words. \n",
    "\n",
    "    Review: ```{input}```\n",
    "    \"\"\"\n",
    "    output = get_completion(prompt)\n",
    "    return output\n",
    "    \n",
    "gr.close_all()\n",
    "demo = gr.Interface(fn=summarize, \n",
    "                    inputs=[gr.Textbox(label=\"Text to summarize\", lines=6)],\n",
    "                    outputs=[gr.Textbox(label=\"Result\", lines=3)],\n",
    "                    title=\"Text summarization\",\n",
    "                    description=\"Summarize any text using ChatGPT\"\n",
    "                   )\n",
    "demo.launch()"
   ]
  }
 ],
 "metadata": {
  "kernelspec": {
   "display_name": "Python 3",
   "language": "python",
   "name": "python3"
  },
  "language_info": {
   "codemirror_mode": {
    "name": "ipython",
    "version": 3
   },
   "file_extension": ".py",
   "mimetype": "text/x-python",
   "name": "python",
   "nbconvert_exporter": "python",
   "pygments_lexer": "ipython3",
   "version": "3.10.4"
  },
  "orig_nbformat": 4
 },
 "nbformat": 4,
 "nbformat_minor": 2
}
